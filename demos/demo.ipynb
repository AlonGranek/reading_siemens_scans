{
 "cells": [
  {
   "cell_type": "markdown",
   "source": [
    "# Siemens scan reading demo"
   ],
   "metadata": {
    "collapsed": false
   },
   "id": "19a3873a0af8c532"
  },
  {
   "cell_type": "code",
   "outputs": [],
   "source": [
    "import numpy as np\n",
    "import matplotlib.pyplot as plt\n",
    "from pathlib import Path\n",
    "\n",
    "from read_siemens_scans.twix_reading import read_raw_twix_data\n",
    "from read_siemens_scans.recon import adjoint_recon, kspace_fix_aspect_ratio\n",
    "from read_siemens_scans.visualize import imshow\n",
    "from read_siemens_scans.config import DIM_DESCRIPTION\n",
    "\n",
    "%matplotlib inline"
   ],
   "metadata": {
    "collapsed": false
   },
   "id": "35d35bac363f3c77",
   "execution_count": null
  },
  {
   "cell_type": "markdown",
   "source": [
    "### Configure the directory of TWIX files"
   ],
   "metadata": {
    "collapsed": false
   },
   "id": "ba3137aaabf40186"
  },
  {
   "cell_type": "code",
   "outputs": [],
   "source": [
    "\n",
    "dataset_path = '/mnt/c/Users/along/Downloads/In-vivo twix files'\n"
   ],
   "metadata": {
    "collapsed": false
   },
   "id": "f534b8c2340c24ea",
   "execution_count": null
  },
  {
   "cell_type": "markdown",
   "source": [
    "### Load file paths, display index of loaded paths"
   ],
   "metadata": {
    "collapsed": false
   },
   "id": "a8ad25a060a09983"
  },
  {
   "cell_type": "code",
   "outputs": [],
   "source": [
    "index_dict = dict()\n",
    "index_script = Path(dataset_path).joinpath('index.py')\n",
    "with open(index_script, 'r') as file: exec(file.read(), {\"__file__\": index_script}, index_dict)\n",
    "print('Loaded the following dictionaries:\\n')\n",
    "for key, content in index_dict.items():\n",
    "    if key in ['Path', '_dir']: continue\n",
    "    print(f'{key}:\\n' + f'\\t\\tKeys:\\t\\t' + \", \".join(content.keys()) + '\\n')\n",
    "\n",
    "locals().update(index_dict)"
   ],
   "metadata": {
    "collapsed": false
   },
   "id": "6c39ced72342fc44",
   "execution_count": null
  },
  {
   "cell_type": "markdown",
   "source": [
    "### Choose a file to read"
   ],
   "metadata": {
    "collapsed": false
   },
   "id": "a1b90ab19e705568"
  },
  {
   "cell_type": "code",
   "outputs": [],
   "source": [
    "\n",
    "# Choose a dictionary (experiment set), and key (scan)\n",
    "twix_path = pulseq_2d_ball['TSE']\n"
   ],
   "metadata": {
    "collapsed": false
   },
   "id": "3c9208a4cfea0d4c",
   "execution_count": null
  },
  {
   "cell_type": "markdown",
   "source": [
    "### Read k-space, reconstruct in raw form"
   ],
   "metadata": {
    "collapsed": false
   },
   "id": "f19cc12406101098"
  },
  {
   "cell_type": "code",
   "outputs": [],
   "source": [
    "print(f'Reading file \\t {twix_path}\\n')\n",
    "kspace, dim_data = read_raw_twix_data(twix_path.__str__(), fix_oversampling=False)\n",
    "images = adjoint_recon(kspace, dim_data)\n",
    "\n",
    "# NOTES:\n",
    "# 1. Showing adjoint reconstruction. Proper recon for HASTE is not supported.\n",
    "# 2. Shwoing"
   ],
   "metadata": {
    "collapsed": false
   },
   "id": "13eebb23bc5ffd2d",
   "execution_count": null
  },
  {
   "cell_type": "markdown",
   "source": [
    "### Print file dimensions info\n",
    "\n",
    "It is an ordered dictionary of pairs in the format: _\"Name of dimension (name of dimension in the file)\": length at that dimension_.\n",
    "\n",
    "_self.print()_ shows its content."
   ],
   "metadata": {
    "collapsed": false
   },
   "id": "1cd377aea32c881"
  },
  {
   "cell_type": "code",
   "outputs": [],
   "source": [
    "dim_data.print()"
   ],
   "metadata": {
    "collapsed": false
   },
   "id": "6dfbc329c6141f70",
   "execution_count": null
  },
  {
   "cell_type": "markdown",
   "source": [
    "**Look carefully at the dimensions printed above.**\n",
    "\n",
    "This notebook is comprised of **two parts**. Choose the right one depending on whether the experiment is 3D (two phase encoding dims) or 2D (one phase encoding)."
   ],
   "metadata": {
    "collapsed": false
   },
   "id": "1256118813d91f45"
  },
  {
   "cell_type": "markdown",
   "source": [
    "# Displaying 3D data"
   ],
   "metadata": {
    "collapsed": false
   },
   "id": "d85cfa9646a6caae"
  },
  {
   "cell_type": "code",
   "outputs": [],
   "source": [
    "# Choice of images\n",
    "par_ind = 32\n",
    "cha_ind = 33\n",
    "\n",
    "fig, ax = plt.subplots(2, 1)\n",
    "fig.suptitle(f'k-space & recon, at {par_ind}th Par coord., {cha_ind}th Cha coord.')\n",
    "ax[0].set_title(f'k-space')\n",
    "imshow(ax[0], 10 * np.log10(abs(kspace[par_ind, :, cha_ind, :])))\n",
    "ax[1].set_title(f'Recon')\n",
    "imshow(ax[1], abs(images[par_ind, :, cha_ind, :]))\n",
    "fig.set_size_inches(7, 8)"
   ],
   "metadata": {
    "collapsed": false
   },
   "id": "2949a4b2e9b92ff9",
   "execution_count": null
  },
  {
   "cell_type": "markdown",
   "source": [
    "### Turn aspect ratio into 1:1 by a simple Fourier interpolation"
   ],
   "metadata": {
    "collapsed": false
   },
   "id": "4a3175e4aa094e67"
  },
  {
   "cell_type": "code",
   "outputs": [],
   "source": [
    "kspace_fixed = kspace_fix_aspect_ratio(kspace, dim_data)\n",
    "images_interp = adjoint_recon(kspace_fixed, dim_data)"
   ],
   "metadata": {
    "collapsed": false
   },
   "id": "2458112518f638d1",
   "execution_count": null
  },
  {
   "cell_type": "code",
   "outputs": [],
   "source": [
    "fig, ax = plt.subplots(2, 1)\n",
    "fig.suptitle(f'Same k-space & recon, after interpolation')\n",
    "ax[0].set_title(f'k-space')\n",
    "kspace_floor = abs(kspace[par_ind, :, cha_ind, :]).min()\n",
    "imshow(ax[0], 10 * np.log10(np.maximum(abs(kspace_fixed[par_ind, :, cha_ind, :]), kspace_floor)))\n",
    "ax[1].set_title(f'Recon')\n",
    "imshow(ax[1], abs(images_interp[par_ind, :, cha_ind, :]))\n",
    "fig.set_size_inches(7, 14)"
   ],
   "metadata": {
    "collapsed": false
   },
   "id": "58440e97f4b728f",
   "execution_count": null
  },
  {
   "cell_type": "markdown",
   "source": [
    "### Plotting all such images together"
   ],
   "metadata": {
    "collapsed": false
   },
   "id": "43e0a41d894a1bcd"
  },
  {
   "cell_type": "code",
   "outputs": [],
   "source": [
    "size_cha = dim_data[DIM_DESCRIPTION['Cha']]\n",
    "size_par = dim_data[DIM_DESCRIPTION['Par']]\n",
    "skip = 8\n",
    "\n",
    "cha_inds = list(range(0, size_cha, skip))\n",
    "par_inds = list(range(0, size_par, skip))\n",
    "assert len(cha_inds) > 1\n",
    "assert len(par_inds) > 1\n",
    "\n",
    "fig, ax = plt.subplots(len(cha_inds), len(par_inds))\n",
    "for cha_ind, cha in enumerate(cha_inds):\n",
    "    for par_ind, par in enumerate(par_inds):\n",
    "        ax[cha_ind, par_ind].set_title(f'Par: {par}. Cha: {cha}')\n",
    "        imshow(ax[cha_ind, par_ind], abs(images_interp[par, :, cha, :]))\n",
    "fig.set_size_inches(30, 30)\n",
    "fig.tight_layout()"
   ],
   "metadata": {
    "collapsed": false
   },
   "id": "ab8996aefe0eaa78",
   "execution_count": null
  },
  {
   "cell_type": "markdown",
   "source": [
    "# Displaying 2D data"
   ],
   "metadata": {
    "collapsed": false
   },
   "id": "8afde158fa8077ec"
  },
  {
   "cell_type": "code",
   "outputs": [],
   "source": [
    "# Choice of images\n",
    "cha_ind = 2\n",
    "\n",
    "fig, ax = plt.subplots(2, 1)\n",
    "fig.suptitle(f'k-space & recon, at {cha_ind}th Cha coord.')\n",
    "ax[0].set_title(f'k-space')\n",
    "imshow(ax[0], 10 * np.log10(abs(kspace[:, cha_ind, :])))\n",
    "ax[1].set_title(f'Recon')\n",
    "imshow(ax[1], abs(images[:, cha_ind, :]))\n",
    "fig.set_size_inches(7, 8)"
   ],
   "metadata": {
    "collapsed": false
   },
   "id": "3cd63044155a28e9",
   "execution_count": null
  },
  {
   "cell_type": "markdown",
   "source": [
    "### Turn aspect ratio into 1:1 by a simple Fourier interpolation"
   ],
   "metadata": {
    "collapsed": false
   },
   "id": "e6d4b3bfb548e8ba"
  },
  {
   "cell_type": "code",
   "outputs": [],
   "source": [
    "kspace_fixed = kspace_fix_aspect_ratio(kspace, dim_data)\n",
    "images_interp = adjoint_recon(kspace_fixed, dim_data)"
   ],
   "metadata": {
    "collapsed": false
   },
   "id": "e010ea30183d390b",
   "execution_count": null
  },
  {
   "cell_type": "code",
   "outputs": [],
   "source": [
    "fig, ax = plt.subplots(2, 1)\n",
    "fig.suptitle(f'Same k-space & recon, after interpolation')\n",
    "ax[0].set_title(f'k-space')\n",
    "kspace_floor = abs(kspace[:, cha_ind, :]).min()\n",
    "imshow(ax[0], 10 * np.log10(np.maximum(abs(kspace_fixed[:, cha_ind, :]), kspace_floor)))\n",
    "ax[1].set_title(f'Recon')\n",
    "imshow(ax[1], abs(images_interp[:, cha_ind, :]))\n",
    "fig.set_size_inches(7, 14)"
   ],
   "metadata": {
    "collapsed": false
   },
   "id": "304b5634bfb02fd0",
   "execution_count": null
  },
  {
   "cell_type": "markdown",
   "source": [
    "### Plotting all such images together"
   ],
   "metadata": {
    "collapsed": false
   },
   "id": "aa94a8a9118609a7"
  },
  {
   "cell_type": "code",
   "outputs": [],
   "source": [
    "size_cha = dim_data[DIM_DESCRIPTION['Cha']]\n",
    "skip = 1\n",
    "\n",
    "cha_inds = list(range(0, size_cha, skip))\n",
    "assert len(cha_inds) > 1\n",
    "\n",
    "fig, ax = plt.subplots(1, len(cha_inds))\n",
    "for cha_ind, cha in enumerate(cha_inds):\n",
    "    ax[cha_ind].set_title(f'Cha: {cha}')\n",
    "    imshow(ax[cha_ind], abs(images_interp[:, cha, :]))\n",
    "fig.set_size_inches(30, 7)\n",
    "fig.tight_layout()"
   ],
   "metadata": {
    "collapsed": false
   },
   "id": "ff84e123f4fc242a",
   "execution_count": null
  }
 ],
 "metadata": {
  "kernelspec": {
   "display_name": "Python 3",
   "language": "python",
   "name": "python3"
  },
  "language_info": {
   "codemirror_mode": {
    "name": "ipython",
    "version": 2
   },
   "file_extension": ".py",
   "mimetype": "text/x-python",
   "name": "python",
   "nbconvert_exporter": "python",
   "pygments_lexer": "ipython2",
   "version": "2.7.6"
  }
 },
 "nbformat": 4,
 "nbformat_minor": 5
}
